{
 "cells": [
  {
   "cell_type": "markdown",
   "id": "af11bf2a",
   "metadata": {},
   "source": [
    "### Sales Analysis "
   ]
  },
  {
   "cell_type": "code",
   "execution_count": 18,
   "id": "af6d3597",
   "metadata": {},
   "outputs": [],
   "source": [
    "# Import Python lib\n",
    "import pandas as pd\n",
    "import numpy as np\n",
    "import seaborn as sns\n",
    "\n",
    "# load datafile \n",
    "df= pd.read_csv(\"AusApparalSales4thQrt2020.csv\")"
   ]
  },
  {
   "cell_type": "markdown",
   "id": "95e9fd3a",
   "metadata": {},
   "source": [
    "## 1. Data Wrangling"
   ]
  },
  {
   "cell_type": "markdown",
   "id": "09bb9487",
   "metadata": {},
   "source": [
    "### 1.a. check missing values"
   ]
  },
  {
   "cell_type": "code",
   "execution_count": 19,
   "id": "430bd971",
   "metadata": {},
   "outputs": [
    {
     "data": {
      "text/plain": [
       "Date     0\n",
       "Time     0\n",
       "State    0\n",
       "Group    0\n",
       "Unit     0\n",
       "Sales    0\n",
       "dtype: int64"
      ]
     },
     "execution_count": 19,
     "metadata": {},
     "output_type": "execute_result"
    }
   ],
   "source": [
    "df.isna().sum()\n",
    "## result => no missing data"
   ]
  },
  {
   "cell_type": "markdown",
   "id": "f82d0a42",
   "metadata": {},
   "source": [
    "### 1.b Treating missing or incorrect data"
   ]
  },
  {
   "cell_type": "markdown",
   "id": "fbfb1be6",
   "metadata": {},
   "source": [
    "Since there was no missing data, there is no corection required.\n",
    "However, for this data, since it's sales record for stores, I would drop the rows with missing data.  If it's categorical data, I would correct the data with Unknown."
   ]
  },
  {
   "cell_type": "code",
   "execution_count": 20,
   "id": "9884dc57",
   "metadata": {},
   "outputs": [
    {
     "data": {
      "text/plain": [
       "Date     object\n",
       "Time     object\n",
       "State    object\n",
       "Group    object\n",
       "Unit      int64\n",
       "Sales     int64\n",
       "dtype: object"
      ]
     },
     "execution_count": 20,
     "metadata": {},
     "output_type": "execute_result"
    }
   ],
   "source": [
    "# checking data types\n",
    "df.dtypes"
   ]
  },
  {
   "cell_type": "code",
   "execution_count": 21,
   "id": "ca2f1530",
   "metadata": {},
   "outputs": [],
   "source": [
    "#date column is objet, convert it to date column\n",
    "df['Date'] = pd.to_datetime(df['Date'])"
   ]
  },
  {
   "cell_type": "code",
   "execution_count": null,
   "id": "e8a30e4a",
   "metadata": {},
   "outputs": [
    {
     "data": {
      "text/plain": [
       "Date     datetime64[ns]\n",
       "Time             object\n",
       "State            object\n",
       "Group            object\n",
       "Unit              int64\n",
       "Sales             int64\n",
       "dtype: object"
      ]
     },
     "execution_count": 27,
     "metadata": {},
     "output_type": "execute_result"
    }
   ],
   "source": [
    "df.dtypes\n",
    "# The Date field has been confirmed to the correct type."
   ]
  },
  {
   "cell_type": "code",
   "execution_count": 22,
   "id": "e6d55431",
   "metadata": {},
   "outputs": [
    {
     "name": "stdout",
     "output_type": "stream",
     "text": [
      "Empty DataFrame\n",
      "Columns: [Date, Time, State, Group, Unit, Sales, count]\n",
      "Index: []\n"
     ]
    }
   ],
   "source": [
    "# Find duplicate rows based on all columns\n",
    "duplicates = df[df.duplicated(keep=False)]\n",
    "\n",
    "# Count occurrences of each duplicate row\n",
    "duplicate_counts=duplicates.groupby(list(duplicates.columns)).size().reset_index(name='count')\n",
    "print(duplicate_counts)\n",
    "\n",
    "## => result no duplicate found"
   ]
  },
  {
   "cell_type": "markdown",
   "id": "8a5ac3e9",
   "metadata": {},
   "source": [
    "### 1.C Choose a sutable data wrangling technique\n",
    "- either data standardization or normalization. Execute the preferred normalization method and present the resulting data. \n",
    "- Normalization is the preferred approach for this problem (Min-Max or Standard normalization)"
   ]
  },
  {
   "cell_type": "markdown",
   "id": "430b5636",
   "metadata": {},
   "source": [
    "### 1.d Share your insights regarding the application of the GroupBy() function for either data chunking or merging, and offer a recommendation based on your analysis."
   ]
  },
  {
   "cell_type": "markdown",
   "id": "898c013a",
   "metadata": {},
   "source": [
    "## 2. Data Analysis"
   ]
  },
  {
   "cell_type": "markdown",
   "id": "ffa8e729",
   "metadata": {},
   "source": [
    "### 2.a.  Perform descriptive statistical analysis on the data in the Sales and Unit columns. Utilize techniques such as mean, median, mode, and standard deviation for this analysis."
   ]
  },
  {
   "cell_type": "code",
   "execution_count": 28,
   "id": "1974622b",
   "metadata": {},
   "outputs": [
    {
     "data": {
      "text/html": [
       "<div>\n",
       "<style scoped>\n",
       "    .dataframe tbody tr th:only-of-type {\n",
       "        vertical-align: middle;\n",
       "    }\n",
       "\n",
       "    .dataframe tbody tr th {\n",
       "        vertical-align: top;\n",
       "    }\n",
       "\n",
       "    .dataframe thead th {\n",
       "        text-align: right;\n",
       "    }\n",
       "</style>\n",
       "<table border=\"1\" class=\"dataframe\">\n",
       "  <thead>\n",
       "    <tr style=\"text-align: right;\">\n",
       "      <th></th>\n",
       "      <th>Date</th>\n",
       "      <th>Time</th>\n",
       "      <th>State</th>\n",
       "      <th>Group</th>\n",
       "      <th>Unit</th>\n",
       "      <th>Sales</th>\n",
       "    </tr>\n",
       "  </thead>\n",
       "  <tbody>\n",
       "    <tr>\n",
       "      <th>0</th>\n",
       "      <td>2020-10-01</td>\n",
       "      <td>Morning</td>\n",
       "      <td>WA</td>\n",
       "      <td>Kids</td>\n",
       "      <td>8</td>\n",
       "      <td>20000</td>\n",
       "    </tr>\n",
       "    <tr>\n",
       "      <th>1</th>\n",
       "      <td>2020-10-01</td>\n",
       "      <td>Morning</td>\n",
       "      <td>WA</td>\n",
       "      <td>Men</td>\n",
       "      <td>8</td>\n",
       "      <td>20000</td>\n",
       "    </tr>\n",
       "    <tr>\n",
       "      <th>2</th>\n",
       "      <td>2020-10-01</td>\n",
       "      <td>Morning</td>\n",
       "      <td>WA</td>\n",
       "      <td>Women</td>\n",
       "      <td>4</td>\n",
       "      <td>10000</td>\n",
       "    </tr>\n",
       "    <tr>\n",
       "      <th>3</th>\n",
       "      <td>2020-10-01</td>\n",
       "      <td>Morning</td>\n",
       "      <td>WA</td>\n",
       "      <td>Seniors</td>\n",
       "      <td>15</td>\n",
       "      <td>37500</td>\n",
       "    </tr>\n",
       "    <tr>\n",
       "      <th>4</th>\n",
       "      <td>2020-10-01</td>\n",
       "      <td>Afternoon</td>\n",
       "      <td>WA</td>\n",
       "      <td>Kids</td>\n",
       "      <td>3</td>\n",
       "      <td>7500</td>\n",
       "    </tr>\n",
       "  </tbody>\n",
       "</table>\n",
       "</div>"
      ],
      "text/plain": [
       "        Date        Time State     Group  Unit  Sales\n",
       "0 2020-10-01     Morning    WA      Kids     8  20000\n",
       "1 2020-10-01     Morning    WA       Men     8  20000\n",
       "2 2020-10-01     Morning    WA     Women     4  10000\n",
       "3 2020-10-01     Morning    WA   Seniors    15  37500\n",
       "4 2020-10-01   Afternoon    WA      Kids     3   7500"
      ]
     },
     "execution_count": 28,
     "metadata": {},
     "output_type": "execute_result"
    }
   ],
   "source": [
    "## 2. Data Analysis\n",
    "df.head()"
   ]
  },
  {
   "cell_type": "markdown",
   "id": "0db792f8",
   "metadata": {},
   "source": [
    "### 2.b Identify the group with the highest sales and the group with the lowest sales based on the data provided."
   ]
  },
  {
   "cell_type": "code",
   "execution_count": null,
   "id": "5f94038e",
   "metadata": {},
   "outputs": [],
   "source": []
  },
  {
   "cell_type": "markdown",
   "id": "aa0d1002",
   "metadata": {},
   "source": [
    "### 2.c. Identify the group with the highest and lowest sales based on the data provided."
   ]
  },
  {
   "cell_type": "markdown",
   "id": "d2d8f74a",
   "metadata": {},
   "source": [
    "### 2.d Generate weekly, monthly, and quarterly reports to document and present the results of the analysis conducted. (Use suitable libraries such as NumPy, Pandas, and SciPy for performing the analysis.)"
   ]
  },
  {
   "cell_type": "markdown",
   "id": "ab170606",
   "metadata": {},
   "source": [
    "## 3. Data visualization"
   ]
  },
  {
   "cell_type": "markdown",
   "id": "b3717399",
   "metadata": {},
   "source": [
    "### 3.a. \n",
    "- Use suitable data visualization libraries to construct a dashboard for the head of sales and marketing. The dashboard should encompass key parameters:\n",
    "State-wise sales analysis for different demographic groups (kids, women, men, and seniors).\n",
    "- Group-wise sales analysis (Kids, Women, Men, and Seniors) across various states.\n",
    "- Time-of-the-day analysis: Identify peak and off-peak sales periods to facilitate strategic planning for S&M teams. This information aids in designing programs like hyper-personalization and Next Best Offers to enhance sales."
   ]
  },
  {
   "cell_type": "markdown",
   "id": "bfa4e990",
   "metadata": {},
   "source": [
    "### 3.b Ensure the visualization is clear and accessible for effective decision-making by the head of sales and marketing (S&M).\n",
    "The dashboard must contain daily, weekly, monthly, and quarterly charts.\n",
    "(Any visualization library can be used for this purpose. However, since statistical analysis is being done, Seaborn is preferred.)"
   ]
  },
  {
   "cell_type": "markdown",
   "id": "ae5f49d1",
   "metadata": {},
   "source": [
    "### 3.c.\n",
    "\n",
    "Include your recommendation and indicate why you are choosing the recommended visualization package."
   ]
  },
  {
   "cell_type": "markdown",
   "id": "67d2e1ca",
   "metadata": {},
   "source": [
    "## 4. Report generation"
   ]
  },
  {
   "cell_type": "markdown",
   "id": "eafe5522",
   "metadata": {},
   "source": [
    "### 4.a\n",
    "\n",
    "Use JupyterLab Notebook for generating reports, which includes tasks such as data wrangling, analysis, and visualization. Please note that JupyterLab enables you to integrate code seamlessly with graphs and plots\n"
   ]
  },
  {
   "cell_type": "markdown",
   "id": "84fe241c",
   "metadata": {},
   "source": [
    "### 4.b\n",
    "Use Markdown in suitable places while presenting your report. "
   ]
  },
  {
   "cell_type": "markdown",
   "id": "dc9c09c3",
   "metadata": {},
   "source": []
  },
  {
   "cell_type": "markdown",
   "id": "0713b270",
   "metadata": {},
   "source": [
    "### 4.c\n",
    "Use suitable graphs, plots, and analysis reports in the report, along with recommendations. Note that various aspects of analysis require different graphs and plots.\n",
    "- Use a box plot for descriptive statistics.\n",
    "- Use the Seaborn distribution plot for any other statistical plotting."
   ]
  },
  {
   "cell_type": "markdown",
   "id": "8b833dc7",
   "metadata": {},
   "source": []
  }
 ],
 "metadata": {
  "kernelspec": {
   "display_name": "dsenv",
   "language": "python",
   "name": "python3"
  },
  "language_info": {
   "codemirror_mode": {
    "name": "ipython",
    "version": 3
   },
   "file_extension": ".py",
   "mimetype": "text/x-python",
   "name": "python",
   "nbconvert_exporter": "python",
   "pygments_lexer": "ipython3",
   "version": "3.11.11"
  }
 },
 "nbformat": 4,
 "nbformat_minor": 5
}
