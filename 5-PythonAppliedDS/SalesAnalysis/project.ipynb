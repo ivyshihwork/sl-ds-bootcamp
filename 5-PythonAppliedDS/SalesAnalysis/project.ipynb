{
 "cells": [
  {
   "cell_type": "markdown",
   "id": "af11bf2a",
   "metadata": {},
   "source": [
    "### Sales Analysis "
   ]
  },
  {
   "cell_type": "code",
   "execution_count": 67,
   "id": "af6d3597",
   "metadata": {},
   "outputs": [],
   "source": [
    "# Import Python lib\n",
    "import pandas as pd\n",
    "import numpy as np\n",
    "import seaborn as sns\n",
    "import matplotlib.pyplot as plt\n",
    "\n",
    "# load datafile \n",
    "df= pd.read_csv(\"AusApparalSales4thQrt2020.csv\")"
   ]
  },
  {
   "cell_type": "markdown",
   "id": "95e9fd3a",
   "metadata": {},
   "source": [
    "## 1. Data Wrangling"
   ]
  },
  {
   "cell_type": "markdown",
   "id": "09bb9487",
   "metadata": {},
   "source": [
    "### 1.a. check missing values"
   ]
  },
  {
   "cell_type": "code",
   "execution_count": 68,
   "id": "430bd971",
   "metadata": {},
   "outputs": [
    {
     "data": {
      "text/plain": [
       "Date     0\n",
       "Time     0\n",
       "State    0\n",
       "Group    0\n",
       "Unit     0\n",
       "Sales    0\n",
       "dtype: int64"
      ]
     },
     "execution_count": 68,
     "metadata": {},
     "output_type": "execute_result"
    }
   ],
   "source": [
    "df.isna().sum()\n",
    "## result => no missing data"
   ]
  },
  {
   "cell_type": "code",
   "execution_count": null,
   "id": "5f2bd4c4",
   "metadata": {},
   "outputs": [
    {
     "data": {
      "text/plain": [
       "Date     0\n",
       "Time     0\n",
       "State    0\n",
       "Group    0\n",
       "Unit     0\n",
       "Sales    0\n",
       "dtype: int64"
      ]
     },
     "execution_count": 37,
     "metadata": {},
     "output_type": "execute_result"
    }
   ],
   "source": [
    "df.isnull().sum()\n",
    "## result => no missing data"
   ]
  },
  {
   "cell_type": "markdown",
   "id": "f82d0a42",
   "metadata": {},
   "source": [
    "### 1.b Treating missing or incorrect data"
   ]
  },
  {
   "cell_type": "markdown",
   "id": "fbfb1be6",
   "metadata": {},
   "source": [
    "Since there was no missing data, there is no corection required.\n",
    "However, for this data, since it's sales record for stores, I would drop the rows with missing data.  If it's categorical data, I would correct the data with Unknown."
   ]
  },
  {
   "cell_type": "code",
   "execution_count": 69,
   "id": "9884dc57",
   "metadata": {},
   "outputs": [
    {
     "data": {
      "text/plain": [
       "Date     object\n",
       "Time     object\n",
       "State    object\n",
       "Group    object\n",
       "Unit      int64\n",
       "Sales     int64\n",
       "dtype: object"
      ]
     },
     "execution_count": 69,
     "metadata": {},
     "output_type": "execute_result"
    }
   ],
   "source": [
    "# checking data types\n",
    "df.dtypes"
   ]
  },
  {
   "cell_type": "code",
   "execution_count": null,
   "id": "ca2f1530",
   "metadata": {},
   "outputs": [],
   "source": [
    "#date column is objet, convert it to date column\n",
    "df['Date'] = pd.to_datetime(df['Date'])"
   ]
  },
  {
   "cell_type": "code",
   "execution_count": 71,
   "id": "e8a30e4a",
   "metadata": {},
   "outputs": [
    {
     "data": {
      "text/plain": [
       "Date     datetime64[ns]\n",
       "Time             object\n",
       "State            object\n",
       "Group            object\n",
       "Unit              int64\n",
       "Sales             int64\n",
       "dtype: object"
      ]
     },
     "execution_count": 71,
     "metadata": {},
     "output_type": "execute_result"
    }
   ],
   "source": [
    "df.dtypes\n",
    "# The Date field has been confirmed to the correct type."
   ]
  },
  {
   "cell_type": "code",
   "execution_count": 92,
   "id": "23c318f2",
   "metadata": {},
   "outputs": [
    {
     "data": {
      "text/plain": [
       "<bound method NDFrame.head of            Date        Time State     Group  Unit  Sales  log_Sales  \\\n",
       "0    2020-10-01     Morning    WA      Kids     8  20000   9.903488   \n",
       "1    2020-10-01     Morning    WA       Men     8  20000   9.903488   \n",
       "2    2020-10-01     Morning    WA     Women     4  10000   9.210340   \n",
       "3    2020-10-01     Morning    WA   Seniors    15  37500  10.532096   \n",
       "4    2020-10-01   Afternoon    WA      Kids     3   7500   8.922658   \n",
       "...         ...         ...   ...       ...   ...    ...        ...   \n",
       "7555 2020-12-30   Afternoon   TAS   Seniors    14  35000  10.463103   \n",
       "7556 2020-12-30     Evening   TAS      Kids    15  37500  10.532096   \n",
       "7557 2020-12-30     Evening   TAS       Men    15  37500  10.532096   \n",
       "7558 2020-12-30     Evening   TAS     Women    11  27500  10.221941   \n",
       "7559 2020-12-30     Evening   TAS   Seniors    13  32500  10.388995   \n",
       "\n",
       "      norm_Sales  \n",
       "0       0.105263  \n",
       "1       0.105263  \n",
       "2       0.032787  \n",
       "3       0.260000  \n",
       "4       0.016129  \n",
       "...          ...  \n",
       "7555    0.235294  \n",
       "7556    0.260000  \n",
       "7557    0.260000  \n",
       "7558    0.166667  \n",
       "7559    0.211538  \n",
       "\n",
       "[7560 rows x 8 columns]>"
      ]
     },
     "execution_count": 92,
     "metadata": {},
     "output_type": "execute_result"
    }
   ],
   "source": [
    "df.head"
   ]
  },
  {
   "cell_type": "code",
   "execution_count": 72,
   "id": "e6d55431",
   "metadata": {},
   "outputs": [
    {
     "name": "stdout",
     "output_type": "stream",
     "text": [
      "Empty DataFrame\n",
      "Columns: [Date, Time, State, Group, Unit, Sales, count]\n",
      "Index: []\n"
     ]
    }
   ],
   "source": [
    "# Find duplicate rows based on all columns\n",
    "duplicates = df[df.duplicated(keep=False)]\n",
    "\n",
    "# Count occurrences of each duplicate row\n",
    "duplicate_counts=duplicates.groupby(list(duplicates.columns)).size().reset_index(name='count')\n",
    "print(duplicate_counts)\n",
    "\n",
    "## => result no duplicate found\n",
    "## else will drop duplicate using: df.drop_duplicates()\n"
   ]
  },
  {
   "cell_type": "code",
   "execution_count": 73,
   "id": "ba9e3285",
   "metadata": {},
   "outputs": [
    {
     "data": {
      "text/plain": [
       "(7560, 6)"
      ]
     },
     "execution_count": 73,
     "metadata": {},
     "output_type": "execute_result"
    }
   ],
   "source": [
    "df.shape"
   ]
  },
  {
   "cell_type": "markdown",
   "id": "8a5ac3e9",
   "metadata": {},
   "source": [
    "### 1.C Choose a sutable data wrangling technique\n",
    "- either data standardization or normalization. Execute the preferred normalization method and present the resulting data. \n",
    "- Normalization is the preferred approach for this problem (Min-Max or Standard normalization)"
   ]
  },
  {
   "cell_type": "code",
   "execution_count": 74,
   "id": "e6befca0",
   "metadata": {},
   "outputs": [
    {
     "data": {
      "text/html": [
       "<div>\n",
       "<style scoped>\n",
       "    .dataframe tbody tr th:only-of-type {\n",
       "        vertical-align: middle;\n",
       "    }\n",
       "\n",
       "    .dataframe tbody tr th {\n",
       "        vertical-align: top;\n",
       "    }\n",
       "\n",
       "    .dataframe thead th {\n",
       "        text-align: right;\n",
       "    }\n",
       "</style>\n",
       "<table border=\"1\" class=\"dataframe\">\n",
       "  <thead>\n",
       "    <tr style=\"text-align: right;\">\n",
       "      <th></th>\n",
       "      <th>Date</th>\n",
       "      <th>Unit</th>\n",
       "      <th>Sales</th>\n",
       "    </tr>\n",
       "  </thead>\n",
       "  <tbody>\n",
       "    <tr>\n",
       "      <th>count</th>\n",
       "      <td>7560</td>\n",
       "      <td>7560.000000</td>\n",
       "      <td>7560.000000</td>\n",
       "    </tr>\n",
       "    <tr>\n",
       "      <th>mean</th>\n",
       "      <td>2020-11-15 04:00:00.000000256</td>\n",
       "      <td>18.005423</td>\n",
       "      <td>45013.558201</td>\n",
       "    </tr>\n",
       "    <tr>\n",
       "      <th>min</th>\n",
       "      <td>2020-10-01 00:00:00</td>\n",
       "      <td>2.000000</td>\n",
       "      <td>5000.000000</td>\n",
       "    </tr>\n",
       "    <tr>\n",
       "      <th>25%</th>\n",
       "      <td>2020-10-23 00:00:00</td>\n",
       "      <td>8.000000</td>\n",
       "      <td>20000.000000</td>\n",
       "    </tr>\n",
       "    <tr>\n",
       "      <th>50%</th>\n",
       "      <td>2020-11-15 12:00:00</td>\n",
       "      <td>14.000000</td>\n",
       "      <td>35000.000000</td>\n",
       "    </tr>\n",
       "    <tr>\n",
       "      <th>75%</th>\n",
       "      <td>2020-12-08 00:00:00</td>\n",
       "      <td>26.000000</td>\n",
       "      <td>65000.000000</td>\n",
       "    </tr>\n",
       "    <tr>\n",
       "      <th>max</th>\n",
       "      <td>2020-12-30 00:00:00</td>\n",
       "      <td>65.000000</td>\n",
       "      <td>162500.000000</td>\n",
       "    </tr>\n",
       "    <tr>\n",
       "      <th>std</th>\n",
       "      <td>NaN</td>\n",
       "      <td>12.901403</td>\n",
       "      <td>32253.506944</td>\n",
       "    </tr>\n",
       "  </tbody>\n",
       "</table>\n",
       "</div>"
      ],
      "text/plain": [
       "                                Date         Unit          Sales\n",
       "count                           7560  7560.000000    7560.000000\n",
       "mean   2020-11-15 04:00:00.000000256    18.005423   45013.558201\n",
       "min              2020-10-01 00:00:00     2.000000    5000.000000\n",
       "25%              2020-10-23 00:00:00     8.000000   20000.000000\n",
       "50%              2020-11-15 12:00:00    14.000000   35000.000000\n",
       "75%              2020-12-08 00:00:00    26.000000   65000.000000\n",
       "max              2020-12-30 00:00:00    65.000000  162500.000000\n",
       "std                              NaN    12.901403   32253.506944"
      ]
     },
     "execution_count": 74,
     "metadata": {},
     "output_type": "execute_result"
    }
   ],
   "source": [
    "#  First need to plot the data to see what the data looks like\n",
    "\n",
    "df.describe()\n",
    "# Result from below shows large disperse with Sales column.  \n",
    "# The column will need to be normalized.\n",
    "# Will use both log and min_max scalar to check difference."
   ]
  },
  {
   "cell_type": "code",
   "execution_count": 75,
   "id": "e87c1a85",
   "metadata": {},
   "outputs": [
    {
     "name": "stdout",
     "output_type": "stream",
     "text": [
      "log_Sales is added to dataframe\n"
     ]
    }
   ],
   "source": [
    "# add log_Sales column to the data frame\n",
    "df['log_Sales'] = df['Sales'].apply(lambda x : np.log(x))\n",
    "print('log_Sales is added to dataframe')\n"
   ]
  },
  {
   "cell_type": "code",
   "execution_count": 76,
   "id": "86342114",
   "metadata": {},
   "outputs": [
    {
     "name": "stdout",
     "output_type": "stream",
     "text": [
      "norm_Sales is  created\n"
     ]
    }
   ],
   "source": [
    "# add norm_Sales column which normalizes the data in min max scaler technique . \n",
    "\n",
    "df['norm_Sales'] = ( df['Sales'] - df['Sales'].min() ) / ( df['Sales'].max() - df['Sales'] )\n",
    "print('norm_Sales is  created')"
   ]
  },
  {
   "cell_type": "code",
   "execution_count": 77,
   "id": "af579b6a",
   "metadata": {},
   "outputs": [
    {
     "data": {
      "text/html": [
       "<div>\n",
       "<style scoped>\n",
       "    .dataframe tbody tr th:only-of-type {\n",
       "        vertical-align: middle;\n",
       "    }\n",
       "\n",
       "    .dataframe tbody tr th {\n",
       "        vertical-align: top;\n",
       "    }\n",
       "\n",
       "    .dataframe thead th {\n",
       "        text-align: right;\n",
       "    }\n",
       "</style>\n",
       "<table border=\"1\" class=\"dataframe\">\n",
       "  <thead>\n",
       "    <tr style=\"text-align: right;\">\n",
       "      <th></th>\n",
       "      <th>Sales</th>\n",
       "      <th>log_Sales</th>\n",
       "      <th>norm_Sales</th>\n",
       "    </tr>\n",
       "  </thead>\n",
       "  <tbody>\n",
       "    <tr>\n",
       "      <th>count</th>\n",
       "      <td>7560.000000</td>\n",
       "      <td>7560.000000</td>\n",
       "      <td>7560.000000</td>\n",
       "    </tr>\n",
       "    <tr>\n",
       "      <th>mean</th>\n",
       "      <td>45013.558201</td>\n",
       "      <td>10.446010</td>\n",
       "      <td>inf</td>\n",
       "    </tr>\n",
       "    <tr>\n",
       "      <th>std</th>\n",
       "      <td>32253.506944</td>\n",
       "      <td>0.767054</td>\n",
       "      <td>NaN</td>\n",
       "    </tr>\n",
       "    <tr>\n",
       "      <th>min</th>\n",
       "      <td>5000.000000</td>\n",
       "      <td>8.517193</td>\n",
       "      <td>0.000000</td>\n",
       "    </tr>\n",
       "    <tr>\n",
       "      <th>25%</th>\n",
       "      <td>20000.000000</td>\n",
       "      <td>9.903488</td>\n",
       "      <td>0.105263</td>\n",
       "    </tr>\n",
       "    <tr>\n",
       "      <th>50%</th>\n",
       "      <td>35000.000000</td>\n",
       "      <td>10.463103</td>\n",
       "      <td>0.235294</td>\n",
       "    </tr>\n",
       "    <tr>\n",
       "      <th>75%</th>\n",
       "      <td>65000.000000</td>\n",
       "      <td>11.082143</td>\n",
       "      <td>0.615385</td>\n",
       "    </tr>\n",
       "    <tr>\n",
       "      <th>max</th>\n",
       "      <td>162500.000000</td>\n",
       "      <td>11.998433</td>\n",
       "      <td>inf</td>\n",
       "    </tr>\n",
       "  </tbody>\n",
       "</table>\n",
       "</div>"
      ],
      "text/plain": [
       "               Sales    log_Sales   norm_Sales\n",
       "count    7560.000000  7560.000000  7560.000000\n",
       "mean    45013.558201    10.446010          inf\n",
       "std     32253.506944     0.767054          NaN\n",
       "min      5000.000000     8.517193     0.000000\n",
       "25%     20000.000000     9.903488     0.105263\n",
       "50%     35000.000000    10.463103     0.235294\n",
       "75%     65000.000000    11.082143     0.615385\n",
       "max    162500.000000    11.998433          inf"
      ]
     },
     "execution_count": 77,
     "metadata": {},
     "output_type": "execute_result"
    }
   ],
   "source": [
    "# check the data\n",
    "df[['Sales','log_Sales','norm_Sales']].describe()"
   ]
  },
  {
   "cell_type": "markdown",
   "id": "430b5636",
   "metadata": {},
   "source": [
    "### 1.d Share your insights regarding the application of the GroupBy() function for either data chunking or merging, and offer a recommendation based on your analysis."
   ]
  },
  {
   "cell_type": "markdown",
   "id": "eb068c37",
   "metadata": {},
   "source": [
    "From the execution of the query results below:\n",
    "\n",
    "1. The field time, has no effect on the unit sold.  The column time can be dropped.  \n",
    "2. The price for every unit is 2500 regardless any other column (Date, Time, State, Group).\n",
    "3. Unit is not impacted by Group.  \n",
    "   - Group can be safely dropped from the data as well.\n",
    "4. THe units purchased by State is very likely impacted by other factor/stats not collected here e.g.,\n",
    "   - as population distribution of the state\n"
   ]
  },
  {
   "cell_type": "code",
   "execution_count": 78,
   "id": "c8694cb4",
   "metadata": {},
   "outputs": [
    {
     "data": {
      "text/plain": [
       "Date          datetime64[ns]\n",
       "Time                  object\n",
       "State                 object\n",
       "Group                 object\n",
       "Unit                   int64\n",
       "Sales                  int64\n",
       "log_Sales            float64\n",
       "norm_Sales           float64\n",
       "dtype: object"
      ]
     },
     "execution_count": 78,
     "metadata": {},
     "output_type": "execute_result"
    }
   ],
   "source": [
    "df.dtypes"
   ]
  },
  {
   "cell_type": "code",
   "execution_count": null,
   "id": "3541cb10",
   "metadata": {},
   "outputs": [
    {
     "data": {
      "text/html": [
       "<div>\n",
       "<style scoped>\n",
       "    .dataframe tbody tr th:only-of-type {\n",
       "        vertical-align: middle;\n",
       "    }\n",
       "\n",
       "    .dataframe tbody tr th {\n",
       "        vertical-align: top;\n",
       "    }\n",
       "\n",
       "    .dataframe thead th {\n",
       "        text-align: right;\n",
       "    }\n",
       "</style>\n",
       "<table border=\"1\" class=\"dataframe\">\n",
       "  <thead>\n",
       "    <tr style=\"text-align: right;\">\n",
       "      <th></th>\n",
       "      <th>total_sales</th>\n",
       "    </tr>\n",
       "  </thead>\n",
       "  <tbody>\n",
       "    <tr>\n",
       "      <th>count</th>\n",
       "      <td>9.000000e+01</td>\n",
       "    </tr>\n",
       "    <tr>\n",
       "      <th>mean</th>\n",
       "      <td>3.781139e+06</td>\n",
       "    </tr>\n",
       "    <tr>\n",
       "      <th>std</th>\n",
       "      <td>6.248873e+05</td>\n",
       "    </tr>\n",
       "    <tr>\n",
       "      <th>min</th>\n",
       "      <td>2.725000e+06</td>\n",
       "    </tr>\n",
       "    <tr>\n",
       "      <th>25%</th>\n",
       "      <td>3.086875e+06</td>\n",
       "    </tr>\n",
       "    <tr>\n",
       "      <th>50%</th>\n",
       "      <td>3.798750e+06</td>\n",
       "    </tr>\n",
       "    <tr>\n",
       "      <th>75%</th>\n",
       "      <td>4.428750e+06</td>\n",
       "    </tr>\n",
       "    <tr>\n",
       "      <th>max</th>\n",
       "      <td>4.765000e+06</td>\n",
       "    </tr>\n",
       "  </tbody>\n",
       "</table>\n",
       "</div>"
      ],
      "text/plain": [
       "        total_sales\n",
       "count  9.000000e+01\n",
       "mean   3.781139e+06\n",
       "std    6.248873e+05\n",
       "min    2.725000e+06\n",
       "25%    3.086875e+06\n",
       "50%    3.798750e+06\n",
       "75%    4.428750e+06\n",
       "max    4.765000e+06"
      ]
     },
     "execution_count": 103,
     "metadata": {},
     "output_type": "execute_result"
    }
   ],
   "source": [
    "# By date\n",
    "gbDate=df[['Date', 'Sales']].groupby('Date').agg(total_sales=('Sales', 'sum'))\n",
    "gbDate.describe()"
   ]
  },
  {
   "cell_type": "code",
   "execution_count": null,
   "id": "a5661db9",
   "metadata": {},
   "outputs": [
    {
     "name": "stdout",
     "output_type": "stream",
     "text": [
      "           total_unit\n",
      "Time                 \n",
      "Afternoon       45603\n",
      "Evening         44835\n",
      "Morning         45683\n",
      "         total_unit\n",
      "Group              \n",
      "Kids          34029\n",
      "Men           34300\n",
      "Seniors       33615\n",
      "Women         34177\n",
      "       total_unit\n",
      "State            \n",
      "NSW         29988\n",
      "NT           9032\n",
      "QLD         13367\n",
      "SA          23543\n",
      "TAS          9104\n",
      "VIC         42226\n",
      "WA           8861\n"
     ]
    }
   ],
   "source": [
    "# By Time and Unit, Group and unit, state and unit\n",
    "gbTU=df[['Time', 'Unit']].groupby('Time').agg(total_unit=('Unit', 'sum'))\n",
    "print(gbTU)\n",
    "gbGU=df[['Group', 'Unit']].groupby('Group').agg(total_unit=('Unit', 'sum'))\n",
    "print(gbGU)\n",
    "gbSU=df[['State', 'Unit']].groupby('State').agg(total_unit=('Unit', 'sum'))\n",
    "print(gbSU)\n",
    "# proved that time and group don't affect units, state does"
   ]
  },
  {
   "cell_type": "code",
   "execution_count": null,
   "id": "ef612703",
   "metadata": {},
   "outputs": [
    {
     "name": "stdout",
     "output_type": "stream",
     "text": [
      "               total_unit\n",
      "State Group              \n",
      "NSW   Kids           7435\n",
      "      Men            7609\n",
      "      Seniors        7275\n",
      "      Women          7669\n",
      "NT    Kids           2280\n",
      "      Men            2305\n",
      "      Seniors        2186\n",
      "      Women          2261\n",
      "QLD   Kids           3404\n",
      "      Men            3357\n",
      "      Seniors        3276\n",
      "      Women          3330\n",
      "SA    Kids           5806\n",
      "      Men            5862\n",
      "      Seniors        5887\n",
      "      Women          5988\n",
      "TAS   Kids           2310\n",
      "      Men            2303\n",
      "      Seniors        2260\n",
      "      Women          2231\n",
      "VIC   Kids          10544\n",
      "      Men           10563\n",
      "      Seniors       10526\n",
      "      Women         10593\n",
      "WA    Kids           2250\n",
      "      Men            2301\n",
      "      Seniors        2205\n",
      "      Women          2105\n"
     ]
    }
   ],
   "source": [
    "# Further looking into state , group and unit.  \n",
    "gbSGU=df[['State', 'Group', 'Unit']].groupby(['State', 'Group']).agg(total_unit=('Unit', 'sum'))\n",
    "print(gbSGU)\n",
    "# The results shown It might due to population and group"
   ]
  },
  {
   "cell_type": "code",
   "execution_count": 120,
   "id": "8a230ed6",
   "metadata": {},
   "outputs": [
    {
     "data": {
      "text/plain": [
       "0       2500.0\n",
       "1       2500.0\n",
       "2       2500.0\n",
       "3       2500.0\n",
       "4       2500.0\n",
       "         ...  \n",
       "7555    2500.0\n",
       "7556    2500.0\n",
       "7557    2500.0\n",
       "7558    2500.0\n",
       "7559    2500.0\n",
       "Name: unit_sale, Length: 7560, dtype: float64"
      ]
     },
     "execution_count": 120,
     "metadata": {},
     "output_type": "execute_result"
    }
   ],
   "source": [
    "# unit_sale\n",
    "df['unit_sale']=df['Sales']/df['Unit']\n",
    "df['unit_sale']\n",
    "# it seems like all are 2500"
   ]
  },
  {
   "cell_type": "code",
   "execution_count": null,
   "id": "7ceddb41",
   "metadata": {},
   "outputs": [
    {
     "name": "stdout",
     "output_type": "stream",
     "text": [
      "1\n"
     ]
    }
   ],
   "source": [
    "# test by counting uniquie value\n",
    "print(df['unit_sale'].nunique())\n",
    "#confirmed"
   ]
  },
  {
   "cell_type": "code",
   "execution_count": null,
   "id": "f817f420",
   "metadata": {},
   "outputs": [
    {
     "name": "stdout",
     "output_type": "stream",
     "text": [
      "       total_sales\n",
      "State             \n",
      "NSW       74970000\n",
      "NT        22580000\n",
      "QLD       33417500\n",
      "SA        58857500\n",
      "TAS       22760000\n",
      "VIC      105565000\n",
      "WA        22152500\n"
     ]
    }
   ],
   "source": [
    "# looking into total sales to see if total sales corresponds to the unit to the state\n",
    "gbSS=df[['State', 'Sales']].groupby('State').agg(total_sales=('Sales', 'sum'))\n",
    "print(gbSS)\n",
    "# total unit from previous show below, so sales is matching\n",
    "# NSW         29988\n",
    "# NT           9032\n",
    "# QLD         13367\n",
    "# SA          23543\n",
    "# TAS          9104\n",
    "# VIC         42226\n",
    "# WA           8861"
   ]
  },
  {
   "cell_type": "markdown",
   "id": "898c013a",
   "metadata": {},
   "source": [
    "## 2. Data Analysis"
   ]
  },
  {
   "cell_type": "markdown",
   "id": "ffa8e729",
   "metadata": {},
   "source": [
    "### 2.a.  Perform descriptive statistical analysis on the data in the Sales and Unit columns. Utilize techniques such as mean, median, mode, and standard deviation for this analysis."
   ]
  },
  {
   "cell_type": "code",
   "execution_count": 124,
   "id": "1a556efb",
   "metadata": {},
   "outputs": [
    {
     "data": {
      "text/html": [
       "<div>\n",
       "<style scoped>\n",
       "    .dataframe tbody tr th:only-of-type {\n",
       "        vertical-align: middle;\n",
       "    }\n",
       "\n",
       "    .dataframe tbody tr th {\n",
       "        vertical-align: top;\n",
       "    }\n",
       "\n",
       "    .dataframe thead th {\n",
       "        text-align: right;\n",
       "    }\n",
       "</style>\n",
       "<table border=\"1\" class=\"dataframe\">\n",
       "  <thead>\n",
       "    <tr style=\"text-align: right;\">\n",
       "      <th></th>\n",
       "      <th>Unit</th>\n",
       "      <th>Sales</th>\n",
       "    </tr>\n",
       "  </thead>\n",
       "  <tbody>\n",
       "    <tr>\n",
       "      <th>count</th>\n",
       "      <td>7560.000000</td>\n",
       "      <td>7560.000000</td>\n",
       "    </tr>\n",
       "    <tr>\n",
       "      <th>mean</th>\n",
       "      <td>18.005423</td>\n",
       "      <td>45013.558201</td>\n",
       "    </tr>\n",
       "    <tr>\n",
       "      <th>std</th>\n",
       "      <td>12.901403</td>\n",
       "      <td>32253.506944</td>\n",
       "    </tr>\n",
       "    <tr>\n",
       "      <th>min</th>\n",
       "      <td>2.000000</td>\n",
       "      <td>5000.000000</td>\n",
       "    </tr>\n",
       "    <tr>\n",
       "      <th>25%</th>\n",
       "      <td>8.000000</td>\n",
       "      <td>20000.000000</td>\n",
       "    </tr>\n",
       "    <tr>\n",
       "      <th>50%</th>\n",
       "      <td>14.000000</td>\n",
       "      <td>35000.000000</td>\n",
       "    </tr>\n",
       "    <tr>\n",
       "      <th>75%</th>\n",
       "      <td>26.000000</td>\n",
       "      <td>65000.000000</td>\n",
       "    </tr>\n",
       "    <tr>\n",
       "      <th>max</th>\n",
       "      <td>65.000000</td>\n",
       "      <td>162500.000000</td>\n",
       "    </tr>\n",
       "  </tbody>\n",
       "</table>\n",
       "</div>"
      ],
      "text/plain": [
       "              Unit          Sales\n",
       "count  7560.000000    7560.000000\n",
       "mean     18.005423   45013.558201\n",
       "std      12.901403   32253.506944\n",
       "min       2.000000    5000.000000\n",
       "25%       8.000000   20000.000000\n",
       "50%      14.000000   35000.000000\n",
       "75%      26.000000   65000.000000\n",
       "max      65.000000  162500.000000"
      ]
     },
     "execution_count": 124,
     "metadata": {},
     "output_type": "execute_result"
    }
   ],
   "source": [
    "df[['Unit', 'Sales']].describe()"
   ]
  },
  {
   "cell_type": "code",
   "execution_count": null,
   "id": "058fb498",
   "metadata": {},
   "outputs": [
    {
     "data": {
      "image/png": "[encoded data removed]",
      "text/plain": [
       "<Figure size 640x480 with 1 Axes>"
      ]
     },
     "metadata": {},
     "output_type": "display_data"
    }
   ],
   "source": [
    "# Unit box plot\n",
    "plt.boxplot(df['Unit'],\n",
    "            patch_artist=True           )\n",
    "plt.show()"
   ]
  },
  {
   "cell_type": "code",
   "execution_count": 241,
   "id": "ae3d7f7b",
   "metadata": {},
   "outputs": [
    {
     "data": {
      "image/png": "[encoded data removed]",
      "text/plain": [
       "<Figure size 640x480 with 1 Axes>"
      ]
     },
     "metadata": {},
     "output_type": "display_data"
    }
   ],
   "source": [
    "# Sales boxplot\n",
    "plt.boxplot(df['Sales']/1000000,\n",
    "            patch_artist=True           )\n",
    "plt.show()"
   ]
  },
  {
   "cell_type": "markdown",
   "id": "0db792f8",
   "metadata": {},
   "source": [
    "### 2.b Identify the group with the highest sales and the group with the lowest sales based on the data provided."
   ]
  },
  {
   "cell_type": "code",
   "execution_count": null,
   "id": "5f94038e",
   "metadata": {},
   "outputs": [
    {
     "name": "stdout",
     "output_type": "stream",
     "text": [
      "         total_Sales\n",
      "Group               \n",
      "Kids        85072500\n",
      "Men         85750000\n",
      "Seniors     84037500\n",
      "Women       85442500\n",
      "Maxinum group is  Men and minumum group is  Seniors\n"
     ]
    },
    {
     "name": "stderr",
     "output_type": "stream",
     "text": [
      "/var/folders/yj/9pscqydd39q_bptwmd1n8jx80000gn/T/ipykernel_4745/1514358538.py:6: FutureWarning: Series.__getitem__ treating keys as positions is deprecated. In a future version, integer keys will always be treated as labels (consistent with DataFrame behavior). To access a value by position, use `ser.iloc[pos]`\n",
      "  print(f\"Maxinum group is {gbGS.idxmax()[0]} and minumum group is {gbGS.idxmin()[0]}\")\n"
     ]
    }
   ],
   "source": [
    "gbGS=df[['Group', 'Sales']].groupby('Group').agg(total_Sales=('Sales', 'sum'))\n",
    "# print(gbGS)\n",
    "# group with highest sales is Men, lowest is Seniors\n",
    "print(f\"Maxinum group is {gbGS.idxmax()[0]} and minumum group is {gbGS.idxmin()[0]}\")\n"
   ]
  },
  {
   "cell_type": "markdown",
   "id": "aa0d1002",
   "metadata": {},
   "source": [
    "### 2.c. Identify the group with the highest and lowest sales based on the data provided."
   ]
  },
  {
   "cell_type": "code",
   "execution_count": 143,
   "id": "25c88b4e",
   "metadata": {},
   "outputs": [
    {
     "name": "stdout",
     "output_type": "stream",
     "text": [
      "Maxinum group is  Men and minumum group is  Seniors\n"
     ]
    },
    {
     "name": "stderr",
     "output_type": "stream",
     "text": [
      "/var/folders/yj/9pscqydd39q_bptwmd1n8jx80000gn/T/ipykernel_4745/2970745118.py:2: FutureWarning: Series.__getitem__ treating keys as positions is deprecated. In a future version, integer keys will always be treated as labels (consistent with DataFrame behavior). To access a value by position, use `ser.iloc[pos]`\n",
      "  print(f\"Maxinum group is {gbGS.idxmax()[0]} and minumum group is {gbGS.idxmin()[0]}\")\n"
     ]
    }
   ],
   "source": [
    "# same as above - duplicate question\n",
    "print(f\"Maxinum group is {gbGS.idxmax()[0]} and minumum group is {gbGS.idxmin()[0]}\")\n"
   ]
  },
  {
   "cell_type": "markdown",
   "id": "d2d8f74a",
   "metadata": {},
   "source": [
    "### 2.d Generate weekly, monthly, and quarterly reports to document and present the results of the analysis conducted. (Use suitable libraries such as NumPy, Pandas, and SciPy for performing the analysis.)"
   ]
  },
  {
   "cell_type": "code",
   "execution_count": 157,
   "id": "e8a94c3d",
   "metadata": {},
   "outputs": [
    {
     "data": {
      "text/html": [
       "<div>\n",
       "<style scoped>\n",
       "    .dataframe tbody tr th:only-of-type {\n",
       "        vertical-align: middle;\n",
       "    }\n",
       "\n",
       "    .dataframe tbody tr th {\n",
       "        vertical-align: top;\n",
       "    }\n",
       "\n",
       "    .dataframe thead th {\n",
       "        text-align: right;\n",
       "    }\n",
       "</style>\n",
       "<table border=\"1\" class=\"dataframe\">\n",
       "  <thead>\n",
       "    <tr style=\"text-align: right;\">\n",
       "      <th></th>\n",
       "      <th>total_Sales</th>\n",
       "    </tr>\n",
       "    <tr>\n",
       "      <th>Date</th>\n",
       "      <th></th>\n",
       "    </tr>\n",
       "  </thead>\n",
       "  <tbody>\n",
       "    <tr>\n",
       "      <th>2020-10-04</th>\n",
       "      <td>15045000</td>\n",
       "    </tr>\n",
       "    <tr>\n",
       "      <th>2020-10-11</th>\n",
       "      <td>27002500</td>\n",
       "    </tr>\n",
       "    <tr>\n",
       "      <th>2020-10-18</th>\n",
       "      <td>26640000</td>\n",
       "    </tr>\n",
       "    <tr>\n",
       "      <th>2020-10-25</th>\n",
       "      <td>26815000</td>\n",
       "    </tr>\n",
       "    <tr>\n",
       "      <th>2020-11-01</th>\n",
       "      <td>21807500</td>\n",
       "    </tr>\n",
       "    <tr>\n",
       "      <th>2020-11-08</th>\n",
       "      <td>20865000</td>\n",
       "    </tr>\n",
       "    <tr>\n",
       "      <th>2020-11-15</th>\n",
       "      <td>21172500</td>\n",
       "    </tr>\n",
       "    <tr>\n",
       "      <th>2020-11-22</th>\n",
       "      <td>21112500</td>\n",
       "    </tr>\n",
       "    <tr>\n",
       "      <th>2020-11-29</th>\n",
       "      <td>21477500</td>\n",
       "    </tr>\n",
       "    <tr>\n",
       "      <th>2020-12-06</th>\n",
       "      <td>29622500</td>\n",
       "    </tr>\n",
       "    <tr>\n",
       "      <th>2020-12-13</th>\n",
       "      <td>31525000</td>\n",
       "    </tr>\n",
       "    <tr>\n",
       "      <th>2020-12-20</th>\n",
       "      <td>31655000</td>\n",
       "    </tr>\n",
       "    <tr>\n",
       "      <th>2020-12-27</th>\n",
       "      <td>31770000</td>\n",
       "    </tr>\n",
       "    <tr>\n",
       "      <th>2021-01-03</th>\n",
       "      <td>13792500</td>\n",
       "    </tr>\n",
       "  </tbody>\n",
       "</table>\n",
       "</div>"
      ],
      "text/plain": [
       "            total_Sales\n",
       "Date                   \n",
       "2020-10-04     15045000\n",
       "2020-10-11     27002500\n",
       "2020-10-18     26640000\n",
       "2020-10-25     26815000\n",
       "2020-11-01     21807500\n",
       "2020-11-08     20865000\n",
       "2020-11-15     21172500\n",
       "2020-11-22     21112500\n",
       "2020-11-29     21477500\n",
       "2020-12-06     29622500\n",
       "2020-12-13     31525000\n",
       "2020-12-20     31655000\n",
       "2020-12-27     31770000\n",
       "2021-01-03     13792500"
      ]
     },
     "execution_count": 157,
     "metadata": {},
     "output_type": "execute_result"
    }
   ],
   "source": [
    "# gbGS=df[['Group', 'Sales']].groupby('Group').agg(total_Sales=('Sales', 'sum'))\n",
    "gbDS=df[['Date','Sales']]\n",
    "gbDS.set_index('Date', inplace=True)\n",
    "gbDS.resample('W').agg(total_Sales=('Sales', 'sum'))\n"
   ]
  },
  {
   "cell_type": "code",
   "execution_count": 158,
   "id": "9434f5b4",
   "metadata": {},
   "outputs": [
    {
     "name": "stderr",
     "output_type": "stream",
     "text": [
      "/var/folders/yj/9pscqydd39q_bptwmd1n8jx80000gn/T/ipykernel_4745/3107166213.py:1: FutureWarning: 'M' is deprecated and will be removed in a future version, please use 'ME' instead.\n",
      "  gbDS.resample('M').agg(total_Sales=('Sales', 'sum'))\n"
     ]
    },
    {
     "data": {
      "text/html": [
       "<div>\n",
       "<style scoped>\n",
       "    .dataframe tbody tr th:only-of-type {\n",
       "        vertical-align: middle;\n",
       "    }\n",
       "\n",
       "    .dataframe tbody tr th {\n",
       "        vertical-align: top;\n",
       "    }\n",
       "\n",
       "    .dataframe thead th {\n",
       "        text-align: right;\n",
       "    }\n",
       "</style>\n",
       "<table border=\"1\" class=\"dataframe\">\n",
       "  <thead>\n",
       "    <tr style=\"text-align: right;\">\n",
       "      <th></th>\n",
       "      <th>total_Sales</th>\n",
       "    </tr>\n",
       "    <tr>\n",
       "      <th>Date</th>\n",
       "      <th></th>\n",
       "    </tr>\n",
       "  </thead>\n",
       "  <tbody>\n",
       "    <tr>\n",
       "      <th>2020-10-31</th>\n",
       "      <td>114290000</td>\n",
       "    </tr>\n",
       "    <tr>\n",
       "      <th>2020-11-30</th>\n",
       "      <td>90682500</td>\n",
       "    </tr>\n",
       "    <tr>\n",
       "      <th>2020-12-31</th>\n",
       "      <td>135330000</td>\n",
       "    </tr>\n",
       "  </tbody>\n",
       "</table>\n",
       "</div>"
      ],
      "text/plain": [
       "            total_Sales\n",
       "Date                   \n",
       "2020-10-31    114290000\n",
       "2020-11-30     90682500\n",
       "2020-12-31    135330000"
      ]
     },
     "execution_count": 158,
     "metadata": {},
     "output_type": "execute_result"
    }
   ],
   "source": [
    "gbDS.resample('M').agg(total_Sales=('Sales', 'sum'))"
   ]
  },
  {
   "cell_type": "code",
   "execution_count": 159,
   "id": "e5ead929",
   "metadata": {},
   "outputs": [
    {
     "name": "stderr",
     "output_type": "stream",
     "text": [
      "/var/folders/yj/9pscqydd39q_bptwmd1n8jx80000gn/T/ipykernel_4745/3556695687.py:1: FutureWarning: 'Q' is deprecated and will be removed in a future version, please use 'QE' instead.\n",
      "  gbDS.resample('Q').agg(total_Sales=('Sales', 'sum'))\n"
     ]
    },
    {
     "data": {
      "text/html": [
       "<div>\n",
       "<style scoped>\n",
       "    .dataframe tbody tr th:only-of-type {\n",
       "        vertical-align: middle;\n",
       "    }\n",
       "\n",
       "    .dataframe tbody tr th {\n",
       "        vertical-align: top;\n",
       "    }\n",
       "\n",
       "    .dataframe thead th {\n",
       "        text-align: right;\n",
       "    }\n",
       "</style>\n",
       "<table border=\"1\" class=\"dataframe\">\n",
       "  <thead>\n",
       "    <tr style=\"text-align: right;\">\n",
       "      <th></th>\n",
       "      <th>total_Sales</th>\n",
       "    </tr>\n",
       "    <tr>\n",
       "      <th>Date</th>\n",
       "      <th></th>\n",
       "    </tr>\n",
       "  </thead>\n",
       "  <tbody>\n",
       "    <tr>\n",
       "      <th>2020-12-31</th>\n",
       "      <td>340302500</td>\n",
       "    </tr>\n",
       "  </tbody>\n",
       "</table>\n",
       "</div>"
      ],
      "text/plain": [
       "            total_Sales\n",
       "Date                   \n",
       "2020-12-31    340302500"
      ]
     },
     "execution_count": 159,
     "metadata": {},
     "output_type": "execute_result"
    }
   ],
   "source": [
    "gbDS.resample('Q').agg(total_Sales=('Sales', 'sum'))"
   ]
  },
  {
   "cell_type": "markdown",
   "id": "ab170606",
   "metadata": {},
   "source": [
    "## 3. Data visualization"
   ]
  },
  {
   "cell_type": "markdown",
   "id": "b3717399",
   "metadata": {},
   "source": [
    "### 3.a. \n",
    "Use suitable data visualization libraries to construct a dashboard for the head of sales and marketing. The dashboard should encompass key parameters:\n",
    "- State-wise sales analysis for different demographic groups (kids, women, men, and seniors).\n",
    "- Group-wise sales analysis (Kids, Women, Men, and Seniors) across various states.\n",
    "- Time-of-the-day analysis: Identify peak and off-peak sales periods to facilitate strategic planning for S&M teams. This information aids in designing programs like hyper-personalization and Next Best Offers to enhance sales."
   ]
  },
  {
   "cell_type": "code",
   "execution_count": 164,
   "id": "ce4248d5",
   "metadata": {},
   "outputs": [
    {
     "data": {
      "image/png": "[encoded data removed]",
      "text/plain": [
       "<Figure size 640x480 with 1 Axes>"
      ]
     },
     "metadata": {},
     "output_type": "display_data"
    }
   ],
   "source": [
    "# State-wise sales analysis for different demographic groups (kids, women, men, and seniors)\n",
    "gbSGU=df[['State', 'Group', 'Unit']].groupby(['State', 'Group']).agg(total_unit=('Unit', 'sum'))\n",
    "# print(gbSGU)\n",
    "ax=sns.barplot(data=gbSGU, x='State', y='total_unit', hue='Group', palette='Set2')\n",
    "ax.set_ylabel('Total Unit Sold')\n",
    "plt.show()"
   ]
  },
  {
   "cell_type": "code",
   "execution_count": 173,
   "id": "d76ec598",
   "metadata": {},
   "outputs": [
    {
     "data": {
      "image/png": "[encoded data removed]",
      "text/plain": [
       "<Figure size 887.25x400 with 1 Axes>"
      ]
     },
     "metadata": {},
     "output_type": "display_data"
    }
   ],
   "source": [
    "# Group-wise sales analysis (Kids, Women, Men, and Seniors) across various states.\n",
    "GSS=df[['Group', 'State','Sales']]\n",
    "sns.catplot(GSS, y='Group', x='Sales',\n",
    "            kind = 'bar',\n",
    "            height=4,\n",
    "            aspect=2,       # width = height * asect\n",
    "            hue='State',\n",
    "            palette='Set2'\n",
    "           )\n",
    "plt.xticks(fontsize=8)\n",
    "plt.title('Groupwise Sale by State')\n",
    "plt.show()"
   ]
  },
  {
   "cell_type": "code",
   "execution_count": 223,
   "id": "1369104d",
   "metadata": {},
   "outputs": [
    {
     "name": "stderr",
     "output_type": "stream",
     "text": [
      "/var/folders/yj/9pscqydd39q_bptwmd1n8jx80000gn/T/ipykernel_4745/1045685113.py:3: SettingWithCopyWarning: \n",
      "A value is trying to be set on a copy of a slice from a DataFrame.\n",
      "Try using .loc[row_indexer,col_indexer] = value instead\n",
      "\n",
      "See the caveats in the documentation: https://pandas.pydata.org/pandas-docs/stable/user_guide/indexing.html#returning-a-view-versus-a-copy\n",
      "  TS['Sales']=TS['Sales']/1000\n"
     ]
    },
    {
     "data": {
      "text/html": [
       "<div>\n",
       "<style scoped>\n",
       "    .dataframe tbody tr th:only-of-type {\n",
       "        vertical-align: middle;\n",
       "    }\n",
       "\n",
       "    .dataframe tbody tr th {\n",
       "        vertical-align: top;\n",
       "    }\n",
       "\n",
       "    .dataframe thead th {\n",
       "        text-align: right;\n",
       "    }\n",
       "</style>\n",
       "<table border=\"1\" class=\"dataframe\">\n",
       "  <thead>\n",
       "    <tr style=\"text-align: right;\">\n",
       "      <th></th>\n",
       "      <th>total_sale</th>\n",
       "    </tr>\n",
       "    <tr>\n",
       "      <th>Date</th>\n",
       "      <th></th>\n",
       "    </tr>\n",
       "  </thead>\n",
       "  <tbody>\n",
       "    <tr>\n",
       "      <th>2020-10-01</th>\n",
       "      <td>3720.0</td>\n",
       "    </tr>\n",
       "    <tr>\n",
       "      <th>2020-10-02</th>\n",
       "      <td>3715.0</td>\n",
       "    </tr>\n",
       "    <tr>\n",
       "      <th>2020-10-03</th>\n",
       "      <td>3890.0</td>\n",
       "    </tr>\n",
       "    <tr>\n",
       "      <th>2020-10-04</th>\n",
       "      <td>3720.0</td>\n",
       "    </tr>\n",
       "    <tr>\n",
       "      <th>2020-10-05</th>\n",
       "      <td>3862.5</td>\n",
       "    </tr>\n",
       "    <tr>\n",
       "      <th>...</th>\n",
       "      <td>...</td>\n",
       "    </tr>\n",
       "    <tr>\n",
       "      <th>2020-12-26</th>\n",
       "      <td>4715.0</td>\n",
       "    </tr>\n",
       "    <tr>\n",
       "      <th>2020-12-27</th>\n",
       "      <td>4637.5</td>\n",
       "    </tr>\n",
       "    <tr>\n",
       "      <th>2020-12-28</th>\n",
       "      <td>4595.0</td>\n",
       "    </tr>\n",
       "    <tr>\n",
       "      <th>2020-12-29</th>\n",
       "      <td>4607.5</td>\n",
       "    </tr>\n",
       "    <tr>\n",
       "      <th>2020-12-30</th>\n",
       "      <td>4590.0</td>\n",
       "    </tr>\n",
       "  </tbody>\n",
       "</table>\n",
       "<p>91 rows × 1 columns</p>\n",
       "</div>"
      ],
      "text/plain": [
       "            total_sale\n",
       "Date                  \n",
       "2020-10-01      3720.0\n",
       "2020-10-02      3715.0\n",
       "2020-10-03      3890.0\n",
       "2020-10-04      3720.0\n",
       "2020-10-05      3862.5\n",
       "...                ...\n",
       "2020-12-26      4715.0\n",
       "2020-12-27      4637.5\n",
       "2020-12-28      4595.0\n",
       "2020-12-29      4607.5\n",
       "2020-12-30      4590.0\n",
       "\n",
       "[91 rows x 1 columns]"
      ]
     },
     "execution_count": 223,
     "metadata": {},
     "output_type": "execute_result"
    }
   ],
   "source": [
    "# Group sale by day \n",
    "TS=df[['Date','Group', 'Sales']]\n",
    "TS['Sales']=TS['Sales']/1000\n",
    "TS.set_index('Date', inplace=True)\n",
    "TS_DGS=TS.groupby([pd.Grouper(freq='D')]).agg(total_sale=('Sales', 'sum'))\n",
    "TS_DGS"
   ]
  },
  {
   "cell_type": "code",
   "execution_count": 220,
   "id": "79617906",
   "metadata": {},
   "outputs": [
    {
     "data": {
      "image/png": "[encoded data removed]",
      "text/plain": [
       "<Figure size 640x480 with 1 Axes>"
      ]
     },
     "metadata": {},
     "output_type": "display_data"
    }
   ],
   "source": [
    "# - Time-of-the-day analysis: Identify peak and off-peak sales periods to facilitate strategic planning for S&M teams.\n",
    "# Time Sales\n",
    "\n",
    "ax=sns.barplot(data=TS_GR, y='Date', x='total_sale', hue='Time', palette='Set2')\n",
    "ax.set_xlabel('Total Sales (x 1000)')\n",
    "ax.set_title(\"Q4 Weekly Sale by Time\")\n",
    "plt.show()"
   ]
  },
  {
   "cell_type": "code",
   "execution_count": 221,
   "id": "6aa7862d",
   "metadata": {},
   "outputs": [
    {
     "name": "stderr",
     "output_type": "stream",
     "text": [
      "/var/folders/yj/9pscqydd39q_bptwmd1n8jx80000gn/T/ipykernel_4745/175933453.py:1: FutureWarning: 'M' is deprecated and will be removed in a future version, please use 'ME' instead.\n",
      "  TS_GR=TS.groupby([pd.Grouper(freq='M'), 'Time']).agg(total_sale=('Sales', 'sum'))\n"
     ]
    },
    {
     "data": {
      "image/png": "[encoded data removed]",
      "text/plain": [
       "<Figure size 640x480 with 1 Axes>"
      ]
     },
     "metadata": {},
     "output_type": "display_data"
    }
   ],
   "source": [
    "TS_GR=TS.groupby([pd.Grouper(freq='M'), 'Time']).agg(total_sale=('Sales', 'sum'))\n",
    "ax=sns.barplot(data=TS_GR, y='Date', x='total_sale', hue='Time', palette='Set2')\n",
    "ax.set_xlabel('Total Sales (x 1000)')\n",
    "ax.set_title(\"Q4 Monthly Sale by Time\")\n",
    "plt.show()"
   ]
  },
  {
   "cell_type": "code",
   "execution_count": 222,
   "id": "0a65546e",
   "metadata": {},
   "outputs": [
    {
     "name": "stderr",
     "output_type": "stream",
     "text": [
      "/var/folders/yj/9pscqydd39q_bptwmd1n8jx80000gn/T/ipykernel_4745/3131763106.py:1: FutureWarning: 'Q' is deprecated and will be removed in a future version, please use 'QE' instead.\n",
      "  TS_GR=TS.groupby([pd.Grouper(freq='Q'), 'Time']).agg(total_sale=('Sales', 'sum'))\n"
     ]
    },
    {
     "data": {
      "image/png": "[encoded data removed]",
      "text/plain": [
       "<Figure size 640x480 with 1 Axes>"
      ]
     },
     "metadata": {},
     "output_type": "display_data"
    }
   ],
   "source": [
    "TS_GR=TS.groupby([pd.Grouper(freq='Q'), 'Time']).agg(total_sale=('Sales', 'sum'))\n",
    "ax=sns.barplot(data=TS_GR, y='Date', x='total_sale', hue='Time', palette='Set2')\n",
    "ax.set_xlabel('Total Sales (x 1000)')\n",
    "ax.set_title(\"Q4 Sale by Time\")\n",
    "plt.show()"
   ]
  },
  {
   "cell_type": "code",
   "execution_count": 238,
   "id": "ae0c552c",
   "metadata": {},
   "outputs": [
    {
     "name": "stderr",
     "output_type": "stream",
     "text": [
      "/var/folders/yj/9pscqydd39q_bptwmd1n8jx80000gn/T/ipykernel_4745/2396794526.py:3: SettingWithCopyWarning: \n",
      "A value is trying to be set on a copy of a slice from a DataFrame.\n",
      "Try using .loc[row_indexer,col_indexer] = value instead\n",
      "\n",
      "See the caveats in the documentation: https://pandas.pydata.org/pandas-docs/stable/user_guide/indexing.html#returning-a-view-versus-a-copy\n",
      "  TS['Sales']=TS['Sales']/1000\n"
     ]
    },
    {
     "data": {
      "image/png": "[encoded data removed]",
      "text/plain": [
       "<Figure size 587.25x500 with 1 Axes>"
      ]
     },
     "metadata": {},
     "output_type": "display_data"
    }
   ],
   "source": [
    "# TS=df[['Date','Time', 'Sales']].groupby(['Date', 'Time']).agg(total_sale=('Sales', 'sum'))\n",
    "TS=df[['Date','State','Sales']]\n",
    "TS['Sales']=TS['Sales']/1000\n",
    "TS.set_index('Date', inplace=True)\n",
    "TS_DSS=TS.groupby([pd.Grouper(freq='W'), 'State' ]).agg(total_sale=('Sales', 'sum'))\n",
    "TS_DSS\n",
    "\n",
    "sns.relplot(TS_DSS, x='Date',y='total_sale',\n",
    "            kind ='line',\n",
    "            hue='State',\n",
    "            style='State'\n",
    "           )\n",
    "plt.ylabel('Total Sales (x 1000)')\n",
    "plt.xticks(rotation=45, ha='right')\n",
    "plt.show()"
   ]
  },
  {
   "cell_type": "markdown",
   "id": "bfa4e990",
   "metadata": {},
   "source": [
    "### 3.b Ensure the visualization is clear and accessible for effective decision-making by the head of sales and marketing (S&M).\n",
    "The dashboard must contain daily, weekly, monthly, and quarterly charts.\n",
    "(Any visualization library can be used for this purpose. However, since statistical analysis is being done, Seaborn is preferred.)"
   ]
  },
  {
   "cell_type": "markdown",
   "id": "ae5f49d1",
   "metadata": {},
   "source": [
    "### 3.c.\n",
    "\n",
    "Include your recommendation and indicate why you are choosing the recommended visualization package."
   ]
  },
  {
   "cell_type": "markdown",
   "id": "6b981f15",
   "metadata": {},
   "source": [
    "Bar charts are picked because there's no actual time is recorded.  The line graph is used to show overall sales. "
   ]
  },
  {
   "cell_type": "markdown",
   "id": "67d2e1ca",
   "metadata": {},
   "source": [
    "## 4. Report generation"
   ]
  },
  {
   "cell_type": "markdown",
   "id": "eafe5522",
   "metadata": {},
   "source": [
    "### 4.a\n",
    "\n",
    "Use JupyterLab Notebook for generating reports, which includes tasks such as data wrangling, analysis, and visualization. Please note that JupyterLab enables you to integrate code seamlessly with graphs and plots\n"
   ]
  },
  {
   "cell_type": "markdown",
   "id": "84fe241c",
   "metadata": {},
   "source": [
    "### 4.b\n",
    "Use Markdown in suitable places while presenting your report. "
   ]
  },
  {
   "cell_type": "markdown",
   "id": "0713b270",
   "metadata": {},
   "source": [
    "### 4.c\n",
    "Use suitable graphs, plots, and analysis reports in the report, along with recommendations. Note that various aspects of analysis require different graphs and plots.\n",
    "- Use a box plot for descriptive statistics.\n",
    "- Use the Seaborn distribution plot for any other statistical plotting."
   ]
  },
  {
   "cell_type": "markdown",
   "id": "2d583a71",
   "metadata": {},
   "source": []
  }
 ],
 "metadata": {
  "kernelspec": {
   "display_name": "dsenv",
   "language": "python",
   "name": "python3"
  },
  "language_info": {
   "codemirror_mode": {
    "name": "ipython",
    "version": 3
   },
   "file_extension": ".py",
   "mimetype": "text/x-python",
   "name": "python",
   "nbconvert_exporter": "python",
   "pygments_lexer": "ipython3",
   "version": "3.11.11"
  }
 },
 "nbformat": 4,
 "nbformat_minor": 5
}
